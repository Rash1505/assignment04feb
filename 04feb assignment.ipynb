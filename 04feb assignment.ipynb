{
 "cells": [
  {
   "cell_type": "markdown",
   "id": "1f586857-2317-4681-8c33-c7f56aa532f0",
   "metadata": {},
   "source": [
    "Q1. Create a python program to sort the given list of tuples based on integer value\n",
    "using a lambda function.\n",
    "\n",
    "[('Sachin Tendulkar', 34357), ('Ricky Ponting', 27483), ('Jack Kallis', 25534),('Virat Kohli',24936)]"
   ]
  },
  {
   "cell_type": "code",
   "execution_count": 6,
   "id": "b88f815d-ce6c-49a6-8c0f-1905cbc9752c",
   "metadata": {},
   "outputs": [],
   "source": [
    "l=[('Sachin Tendulkar', 34357), ('Ricky Ponting', 27483), ('Jack Kallis', 25534),('Virat Kohli', 24936)]"
   ]
  },
  {
   "cell_type": "code",
   "execution_count": 7,
   "id": "4bbb7dff-570c-4ae2-8020-cb9ca3f8e968",
   "metadata": {},
   "outputs": [
    {
     "data": {
      "text/plain": [
       "[('Sachin Tendulkar', 34357),\n",
       " ('Ricky Ponting', 27483),\n",
       " ('Jack Kallis', 25534),\n",
       " ('Virat Kohli', 24936)]"
      ]
     },
     "execution_count": 7,
     "metadata": {},
     "output_type": "execute_result"
    }
   ],
   "source": [
    "l"
   ]
  },
  {
   "cell_type": "code",
   "execution_count": 9,
   "id": "d4211ef9-2f68-4da8-a79e-3c7646462263",
   "metadata": {},
   "outputs": [],
   "source": [
    "s= sorted(l, key = lambda x : x[1])"
   ]
  },
  {
   "cell_type": "code",
   "execution_count": 12,
   "id": "d59d89bc-fef4-4afb-9627-28644b017654",
   "metadata": {},
   "outputs": [
    {
     "data": {
      "text/plain": [
       "[('Virat Kohli', 24936),\n",
       " ('Jack Kallis', 25534),\n",
       " ('Ricky Ponting', 27483),\n",
       " ('Sachin Tendulkar', 34357)]"
      ]
     },
     "execution_count": 12,
     "metadata": {},
     "output_type": "execute_result"
    }
   ],
   "source": [
    "s"
   ]
  },
  {
   "cell_type": "markdown",
   "id": "2c54a917-0c58-43b2-bda2-7904d4db6a90",
   "metadata": {},
   "source": [
    "Q2. Write a python program to find the squers of all the numbers in the given list of integers using\n",
    "    lambda and map function.\n",
    "    [1,2,3,4,5,6,7,8,9,10]"
   ]
  },
  {
   "cell_type": "code",
   "execution_count": 14,
   "id": "0c5d8017-ce18-4101-9bc2-2de3a49d80c4",
   "metadata": {},
   "outputs": [],
   "source": [
    "l1=[1,2,3,4,5,6,7,8,9,10]"
   ]
  },
  {
   "cell_type": "code",
   "execution_count": 17,
   "id": "c3a3f237-ac2e-4b06-9058-b9dbae1a8ba8",
   "metadata": {},
   "outputs": [],
   "source": [
    "a=list(map(lambda i : i**2,l1))"
   ]
  },
  {
   "cell_type": "code",
   "execution_count": 18,
   "id": "92e789e2-9db3-4aa7-8763-0e445371fc40",
   "metadata": {},
   "outputs": [
    {
     "data": {
      "text/plain": [
       "[1, 4, 9, 16, 25, 36, 49, 64, 81, 100]"
      ]
     },
     "execution_count": 18,
     "metadata": {},
     "output_type": "execute_result"
    }
   ],
   "source": [
    "a"
   ]
  },
  {
   "cell_type": "markdown",
   "id": "afeb432a-c9fd-463f-be6c-0f54bd6bdcb7",
   "metadata": {},
   "source": [
    "Q3. Write a python program to convert the given list of integers into a tuple of strings.\n",
    "    Use map and lambda functions\n",
    "    \n",
    "    Given String:[1,2,3,4,5,6,7,8.9,10]\n",
    "    Expected output:('1','2','3','4','5','6','7','8','9','10')"
   ]
  },
  {
   "cell_type": "code",
   "execution_count": 19,
   "id": "f6ccc4da-5f29-4bd0-a5a6-66c5dee163ab",
   "metadata": {},
   "outputs": [],
   "source": [
    "l2=[1,2,3,4,5,6,7,8,9,10]"
   ]
  },
  {
   "cell_type": "code",
   "execution_count": 20,
   "id": "c00bc2dd-e0a0-40b2-8ea8-207005479ba7",
   "metadata": {},
   "outputs": [],
   "source": [
    "l=tuple(map(lambda i : str(i),l2))"
   ]
  },
  {
   "cell_type": "code",
   "execution_count": 21,
   "id": "2bbb5e36-68cc-469c-96af-233ba982890f",
   "metadata": {},
   "outputs": [
    {
     "data": {
      "text/plain": [
       "('1', '2', '3', '4', '5', '6', '7', '8', '9', '10')"
      ]
     },
     "execution_count": 21,
     "metadata": {},
     "output_type": "execute_result"
    }
   ],
   "source": [
    "l"
   ]
  },
  {
   "cell_type": "markdown",
   "id": "b42495c9-d59d-49e5-97a5-32bb207c4541",
   "metadata": {},
   "source": [
    "Q4. Write a python program using reduce function to compute the product of a list \n",
    "    containing numbers from 1 to 25."
   ]
  },
  {
   "cell_type": "code",
   "execution_count": 23,
   "id": "01bb7edf-e622-484f-8ea6-b28ce733c9f5",
   "metadata": {},
   "outputs": [],
   "source": [
    "a=list(range(1,26))"
   ]
  },
  {
   "cell_type": "code",
   "execution_count": 24,
   "id": "67c3a5e1-b4a0-4818-a766-fc7bb82d4a7a",
   "metadata": {},
   "outputs": [
    {
     "data": {
      "text/plain": [
       "[1,\n",
       " 2,\n",
       " 3,\n",
       " 4,\n",
       " 5,\n",
       " 6,\n",
       " 7,\n",
       " 8,\n",
       " 9,\n",
       " 10,\n",
       " 11,\n",
       " 12,\n",
       " 13,\n",
       " 14,\n",
       " 15,\n",
       " 16,\n",
       " 17,\n",
       " 18,\n",
       " 19,\n",
       " 20,\n",
       " 21,\n",
       " 22,\n",
       " 23,\n",
       " 24,\n",
       " 25]"
      ]
     },
     "execution_count": 24,
     "metadata": {},
     "output_type": "execute_result"
    }
   ],
   "source": [
    "a"
   ]
  },
  {
   "cell_type": "code",
   "execution_count": 26,
   "id": "113769e1-8a7c-40e1-915d-49ef39dbf70b",
   "metadata": {},
   "outputs": [
    {
     "data": {
      "text/plain": [
       "15511210043330985984000000"
      ]
     },
     "execution_count": 26,
     "metadata": {},
     "output_type": "execute_result"
    }
   ],
   "source": [
    "from functools import reduce\n",
    " \n",
    "reduce(lambda x,y: x*y,a)"
   ]
  },
  {
   "cell_type": "markdown",
   "id": "5df96121-82db-4e3b-8cd6-a3ad372635f1",
   "metadata": {},
   "source": [
    "Q5.  Write a python program to filter the numbers in a given list that are divisible by 2 and 3 using the        fliter function.\n",
    "     [2,3,6,9,27,60,90,120,55,46]"
   ]
  },
  {
   "cell_type": "code",
   "execution_count": 27,
   "id": "ee5e8854-694d-4bcd-b6ff-1ac32890cc9a",
   "metadata": {},
   "outputs": [],
   "source": [
    "l=[2,3,6,9,27,60,90,120,55,46]"
   ]
  },
  {
   "cell_type": "code",
   "execution_count": 29,
   "id": "c15af9af-e171-43d5-9657-94294459f76a",
   "metadata": {},
   "outputs": [
    {
     "data": {
      "text/plain": [
       "[6, 60, 90, 120]"
      ]
     },
     "execution_count": 29,
     "metadata": {},
     "output_type": "execute_result"
    }
   ],
   "source": [
    "list(filter(lambda x: x % 2==0 and x % 3==0, l))"
   ]
  },
  {
   "cell_type": "markdown",
   "id": "c1226692-b777-4273-9e6a-6b8f1093be2e",
   "metadata": {},
   "source": [
    "Q6. Write a python program to find palindromes in the given list of strings using lambda and filter     function.\n",
    " ['python', 'php','aba','radar','level']"
   ]
  },
  {
   "cell_type": "code",
   "execution_count": 30,
   "id": "e19ca224-998a-444f-9d90-a92987913698",
   "metadata": {},
   "outputs": [],
   "source": [
    "s=['pytho','php','aba','radar','level']"
   ]
  },
  {
   "cell_type": "code",
   "execution_count": null,
   "id": "06333448-5ada-42f0-97ec-667f05893c18",
   "metadata": {},
   "outputs": [],
   "source": [
    "list(filter(lambda x: (x==''. join(reversed(x))),s)"
   ]
  }
 ],
 "metadata": {
  "kernelspec": {
   "display_name": "Python 3 (ipykernel)",
   "language": "python",
   "name": "python3"
  },
  "language_info": {
   "codemirror_mode": {
    "name": "ipython",
    "version": 3
   },
   "file_extension": ".py",
   "mimetype": "text/x-python",
   "name": "python",
   "nbconvert_exporter": "python",
   "pygments_lexer": "ipython3",
   "version": "3.10.8"
  }
 },
 "nbformat": 4,
 "nbformat_minor": 5
}
